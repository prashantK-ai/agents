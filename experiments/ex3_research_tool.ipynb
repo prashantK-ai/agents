{
 "cells": [
  {
   "cell_type": "code",
   "execution_count": 2,
   "metadata": {},
   "outputs": [],
   "source": [
    "##\n",
    "import os \n",
    "from langchain_groq import ChatGroq\n",
    "from dotenv import load_dotenv\n",
    "\n",
    "load_dotenv()\n",
    "\n",
    "GROQ_API_KEY = os.getenv(\"GROQ_API_KEY\")\n",
    "\n",
    "\n",
    "\n",
    "llm = ChatGroq(model = \"llama-3.2-1b-preview\",\n",
    "            groq_api_key = GROQ_API_KEY)"
   ]
  },
  {
   "cell_type": "markdown",
   "metadata": {},
   "source": [
    "### Import Necessary Libraries\n"
   ]
  },
  {
   "cell_type": "code",
   "execution_count": 12,
   "metadata": {},
   "outputs": [],
   "source": [
    "from langchain_core.tools import tool\n",
    "from langchain_community.tools.tavily_search import TavilySearchResults\n",
    "from langchain_core.prompts import ChatPromptTemplate\n",
    "from langchain_core.runnables import Runnable\n",
    "\n",
    "from typing import Annotated\n",
    "from typing_extensions import TypedDict\n",
    "from langgraph.graph.message import AnyMessage, add_messages\n",
    "from langchain_core.messages import ToolMessage\n",
    "from langchain_core.runnables import RunnableLambda\n",
    "from langgraph.prebuilt import ToolNode\n",
    "from langgraph.prebuilt import tools_condition\n",
    "from langgraph.graph import END, StateGraph, START"
   ]
  },
  {
   "cell_type": "code",
   "execution_count": 5,
   "metadata": {},
   "outputs": [
    {
     "data": {
      "text/plain": [
       "'\\n@tool\\ndef research(prompt):\\n    \"Should do a web search for reserching about the given topic.\"\\n    response = tavily_tool.invoke(prompt)\\n    return response\\n    '"
      ]
     },
     "execution_count": 5,
     "metadata": {},
     "output_type": "execute_result"
    }
   ],
   "source": [
    "tavily_tool = TavilySearchResults(max_results=5)\n",
    "\n",
    "\n",
    "\"\"\"\n",
    "@tool\n",
    "def research(prompt):\n",
    "    \"Should do a web search for reserching about the given topic.\"\n",
    "    response = tavily_tool.invoke(prompt)\n",
    "    return response\n",
    "    \"\"\""
   ]
  },
  {
   "cell_type": "code",
   "execution_count": 28,
   "metadata": {},
   "outputs": [
    {
     "name": "stdout",
     "output_type": "stream",
     "text": [
      "[{'url': 'https://www.britannica.com/money/Elon-Musk', 'content': 'Elon Musk (born June 28, 1971, Pretoria, South Africa) South African-born American entrepreneur who cofounded the electronic-payment firm PayPal and formed SpaceX, maker of launch vehicles and spacecraft.He was also one of the first significant investors in, as well as chief executive officer of, the electric car manufacturer Tesla. In addition, Musk acquired Twitter (later X) in 2022.'}, {'url': 'https://www.investopedia.com/articles/personal-finance/061015/how-elon-musk-became-elon-musk.asp', 'content': \"“Elon Musk Tried to Pitch the Head of the Yellow Pages Before the Internet Boom: ‘He Threw the Book at Me’.”\\nCompaq Computer, via U.S. Securities and Exchange Commission. SpaceX\\nMusk used most of the proceeds from his PayPal stake to found Space Exploration Technologies Corp., the rocket's developer commonly known as SpaceX. By his own account, Musk spent $100 million to found SpaceX in 2002.\\n Musk subsequently settled a Securities and Exchange Commission (SEC) complaint alleging he knowingly misled investors with the tweet by paying a $20 million fine along with the same penalty for Tesla, and agreeing to let Tesla’s lawyers approve tweets with material corporate information before posting.\\n Tesla\\nMusk became involved with the electric cars venture as an early investor in 2004, ultimately contributing about $6.3 million, to begin with, and joined the team, including engineer Martin Eberhard, to help run a company then known as Tesla Motors. The company’s board adopted a poison pill provision to discourage Musk from accumulating an even larger stake, but they ultimately accepted Musk’s offer after he disclosed $46.5 billion in committed financing for the deal in a securities filing.\"}, {'url': 'https://www.cnn.com/2023/09/12/tech/elon-musk-isaacson-biography-takeaways/index.html', 'content': 'CNN values your feedback\\nMarkets\\nHot Stocks\\nFear & Greed Index\\nLatest Market News\\nHot Stocks\\nFour takeaways from Walter Isaacson’s biography of Elon Musk\\n“You’ll never be successful,” Errol Musk in 1989 told his 17-year-old son Elon, who was then preparing to fly from South Africa to Canada to find relatives and a college education.\\n Late last year, he tweeted: “My pronouns are Prosecute/Fauci.”\\nX, formerly Twitter, is a huge risk\\nThe purchase of his favorite social media platform, gutting the staff and tinkering with policies and branding have taken time and resources away from Musk’s other companies and projects, Isaacson reports.\\n He recounts the emotional scars inflicted on Musk by his father, which, Isaacson writes, caused Musk to become “a tough yet vulnerable man-child with an exceedingly high tolerance for risk, a craving for drama, an epic sense of mission and a maniacal intensity that was callous and at times destructive.”\\n But in December 2020 he also posted a tweet, since deleted, that said “when you put he/him in your bio” alongside a drawing of an 18th century soldier rubbing blood on his face in front of a pile of dead bodies and wearing a cap that read “I love to oppress.”\\n After a protracted legal battle over his decision to purchase Twitter, Musk said he regained his enthusiasm for taking over the company when he realized that he wanted to prevent a world where people silo off into their own echo chambers and would prefer a world of civil discourse.\\n'}, {'url': 'https://www.businessinsider.com/tesla-ceo-elon-musk?op=1', 'content': 'Tesla Roadster in space\\nThe Falcon Heavy, the successor to the Falcon 9 and the most powerful rocket SpaceX has built to date, completed a successful maiden launch in February 2018. \"We really wanted to get the public here to wonder, to get excited about the possibility of something new happening in space — of the space frontier getting pushed forward,\" Musk told an audience at the 2018 South by Southwest conference. Though, Autopilot has generated its fair share of lawsuits, as well as investigations from the National Highway Traffic Safety Administration over the years.\\n2016: SolarCity and The Boring Company\\nIn late 2016, Tesla bought SolarCity in a $2.6 billion deal. The \\'Technoking\\' sets his sights on Twitter\\nIn 2022, Musk started buying up shares of Twitter and later turned down an offer to join the board in favor of buying Twitter outright for $44 billion.\\n The bullies threw Musk down a set of stairs and beat him until he blacked out, as detailed in Ashlee Vance\\'s book \"Elon Musk: Tesla, SpaceX, and the Quest for a Fantastic Future.\"'}, {'url': 'https://www.bbc.co.uk/news/business-61234231', 'content': 'The fight to end constant itching\\nElsewhere on the BBC\\nThe problem of thinking in straight lines\\nThe slow decline of the travel selfie\\nThe Scandi artist who created a \\'soulful home\\'\\nMost Read\\nBBC News Services\\n© 2024 BBC. In the press, he\\'s been dubbed both a mad genius and Twitter\\'s biggest troll - known as much for his lofty ambitions as his petty fights, not to mention the more serious lawsuits he and his companies have faced from regulators, investors and others over issues such as racial discrimination and the trustworthiness of his claims.\\n Africa\\'s top shots\\nHard choices for the West in Red Sea stand-off\\nWhat is the genocide case against Israel?\\nHow to survive living in a cyclone zone\\nAnimators say ‘AI isn\\'t going to get you an Oscar’\\n How the world\\'s richest person bought Twitter\\nElon Musk strikes deal to buy Twitter for $44bn\\nTop Stories\\nUS and UK launch strikes against Houthi rebels in Yemen\\nWho are the Houthi rebels attacking Red Sea ships?\\n \"\\nAdditional reporting by Liv McMahon\\nRelated Topics\\nMore on this story\\nTwitter rebrands as X and kills off blue bird logo\\nTwitter loses half ad revenue since Musk takeover\\nCan Threads make more money than Elon Musk’s Twitter?\\n'}]\n"
     ]
    }
   ],
   "source": [
    "ans = tavily_tool.run(\"who is elon musk?\")\n",
    "print(ans)"
   ]
  },
  {
   "cell_type": "markdown",
   "metadata": {},
   "source": [
    "### Set Up State Management and Error Handling\n"
   ]
  },
  {
   "cell_type": "code",
   "execution_count": 6,
   "metadata": {},
   "outputs": [],
   "source": [
    "def handle_tool_error(state) -> dict:\n",
    "    \"\"\"\n",
    "    Function to handle errors that occur during tool execution.\n",
    "    \n",
    "    Args:\n",
    "        state (dict): The current state of the AI agent, which includes messages and tool call details.\n",
    "    \n",
    "    Returns:\n",
    "        dict: A dictionary containing error messages for each tool that encountered an issue.\n",
    "    \"\"\"\n",
    "    # Retrieve the error from the current state\n",
    "    error = state.get(\"error\")\n",
    "    \n",
    "    # Access the tool calls from the last message in the state's message history\n",
    "    tool_calls = state[\"messages\"][-1].tool_calls\n",
    "    \n",
    "    # Return a list of ToolMessages with error details, linked to each tool call ID\n",
    "    return {\n",
    "        \"messages\": [\n",
    "            ToolMessage(\n",
    "                content=f\"Error: {repr(error)}\\n please fix your mistakes.\",  # Format the error message for the user\n",
    "                tool_call_id=tc[\"id\"],  # Associate the error message with the corresponding tool call ID\n",
    "            )\n",
    "            for tc in tool_calls  # Iterate over each tool call to produce individual error messages\n",
    "        ]\n",
    "    }\n",
    "\n",
    "def create_tool_node_with_fallback(tools: list) -> dict:\n",
    "    \"\"\"\n",
    "    Function to create a tool node with fallback error handling.\n",
    "    \n",
    "    Args:\n",
    "        tools (list): A list of tools to be included in the node.\n",
    "    \n",
    "    Returns:\n",
    "        dict: A tool node that uses fallback behavior in case of errors.\n",
    "    \"\"\"\n",
    "    # Create a ToolNode with the provided tools and attach a fallback mechanism\n",
    "    # If an error occurs, it will invoke the handle_tool_error function to manage the error\n",
    "    return ToolNode(tools).with_fallbacks(\n",
    "        [RunnableLambda(handle_tool_error)],  # Use a lambda function to wrap the error handler\n",
    "        exception_key=\"error\"  # Specify that this fallback is for handling errors\n",
    "    )"
   ]
  },
  {
   "cell_type": "markdown",
   "metadata": {},
   "source": [
    "### Define the State and Assistant Class"
   ]
  },
  {
   "cell_type": "code",
   "execution_count": 29,
   "metadata": {},
   "outputs": [],
   "source": [
    "class State(TypedDict):\n",
    "    messages: Annotated[list[AnyMessage], add_messages]\n",
    "\n",
    "\n",
    "class Assistant:\n",
    "    def __init__(self, runnable: Runnable):\n",
    "        # Initialize with the runnable that defines the process for interacting with the tools\n",
    "        self.runnable = runnable\n",
    "\n",
    "    def __call__(self, state: State):\n",
    "        while True:\n",
    "            # Invoke the runnable with the current state (messages and context)\n",
    "            print(\"Current state before running tool:\", state)\n",
    "            result = self.runnable.invoke(state)\n",
    "            \n",
    "\n",
    "            # Check if the tool was invoked and returned valid results\n",
    "            print(\"Result after tool execution:\", result)  # DEBUG\n",
    "            \n",
    "            # If the tool fails to return valid output, re-prompt the user to clarify or retry\n",
    "            if not result.tool_calls and (\n",
    "                not result.content\n",
    "                or isinstance(result.content, list)\n",
    "                and not result.content[0].get(\"text\")\n",
    "            ):\n",
    "                # Add a message to request a valid response\n",
    "                messages = state[\"messages\"] + [(\"user\", \"Respond with a real output.\")]\n",
    "                state = {**state, \"messages\": messages}\n",
    "            else:\n",
    "                # Break the loop when valid output is obtained\n",
    "                break\n",
    "\n",
    "        # Return the final state after processing the runnable\n",
    "        return {\"messages\": result}"
   ]
  },
  {
   "cell_type": "markdown",
   "metadata": {},
   "source": [
    "### Define the Assistant’s Workflow\n"
   ]
  },
  {
   "cell_type": "code",
   "execution_count": 30,
   "metadata": {},
   "outputs": [],
   "source": [
    "primary_assistant_prompt = ChatPromptTemplate.from_messages(\n",
    "    [\n",
    "        (\n",
    "            \"system\",\n",
    "            '''You are a thorough and efficient research assistant. Your job is to conduct in-depth research on the given topic, \n",
    "            identifying key points, trends, and insights. Summarize the information in a clear, concise format, highlighting relevant examples, \n",
    "            sources, and comparisons where necessary. Your summary should be objective, well-structured, \n",
    "            and suitable for a professional audience with intermediate knowledge of the subject.\n",
    "            \n",
    "            You should get the following information from them:\n",
    "            - Topic\n",
    "            If you are not able to discern this info, ask them to clarify! Do not attempt to wildly guess.\n",
    "\n",
    "            After you are able to discern all the information, call the relevant tool.\n",
    "            ''',\n",
    "        ),\n",
    "        (\"placeholder\", \"{messages}\"),\n",
    "    ]\n",
    ")"
   ]
  },
  {
   "cell_type": "code",
   "execution_count": 31,
   "metadata": {},
   "outputs": [],
   "source": [
    "research_tool = [tavily_tool]"
   ]
  },
  {
   "cell_type": "code",
   "execution_count": 32,
   "metadata": {},
   "outputs": [],
   "source": [
    "# Bind the tools to the assistant's workflow\n",
    "research_assistant_runnable = primary_assistant_prompt | llm.bind_tools(research_tool)"
   ]
  },
  {
   "cell_type": "markdown",
   "metadata": {},
   "source": [
    "### Build the Graph Structure\n"
   ]
  },
  {
   "cell_type": "code",
   "execution_count": 33,
   "metadata": {},
   "outputs": [],
   "source": [
    "builder = StateGraph(State)\n",
    "builder.add_node(\"assistant\", Assistant(research_assistant_runnable))\n",
    "builder.add_node(\"tools\", create_tool_node_with_fallback(research_tool))\n",
    "\n",
    "builder.add_edge(START, \"assistant\")  # Start with the assistant\n",
    "builder.add_conditional_edges(\"assistant\", tools_condition)  # Move to tools after input\n",
    "builder.add_edge(\"tools\", \"assistant\")  # Return to assistant after tool execution\n",
    "\n",
    "\n",
    "graph = builder.compile()\n"
   ]
  },
  {
   "cell_type": "code",
   "execution_count": 34,
   "metadata": {},
   "outputs": [],
   "source": [
    "# Let's create an example conversation a user might have with the assistant\n",
    "tutorial_questions = [\n",
    " \"who is elon musk?\"\n",
    "]"
   ]
  },
  {
   "cell_type": "code",
   "execution_count": 44,
   "metadata": {},
   "outputs": [
    {
     "name": "stdout",
     "output_type": "stream",
     "text": [
      "{'messages': [HumanMessage(content='who is elon musk?', additional_kwargs={}, response_metadata={}, id='998ede71-3df4-4175-9370-a268996a8d07')]}\n",
      "--------------------------------------\n",
      "Human_message: who is elon musk?\n",
      "-------------------------------------\n",
      "Current state before running tool: {'messages': [HumanMessage(content='who is elon musk?', additional_kwargs={}, response_metadata={}, id='998ede71-3df4-4175-9370-a268996a8d07')]}\n",
      "Result after tool execution: content='<function=tavily_search_results_json{\"query\": \"elon musk\"}}{\"name\": \"elon musk\", \"description\": \"Elon Musk is a South African-born entrepreneur, inventor, and business magnate. He is the CEO of SpaceX and Tesla, Inc., and has become one of the most influential and successful entrepreneurs in the world.\", \"parameters\": {\"properties\": {\"name\": {\"description\": \"Full name\", \"type\": \"string\"}},\"required\": \"[]\"}}' additional_kwargs={} response_metadata={'token_usage': {'completion_tokens': 100, 'prompt_tokens': 422, 'total_tokens': 522, 'completion_time': 0.029279353, 'prompt_time': 0.132024263, 'queue_time': 0.0004989649999999901, 'total_time': 0.161303616}, 'model_name': 'llama-3.2-1b-preview', 'system_fingerprint': 'fp_1839a2d3cf', 'finish_reason': 'stop', 'logprobs': None} id='run-2a9a4b99-5195-4555-8ed2-30a4d7a8d7d7-0' usage_metadata={'input_tokens': 422, 'output_tokens': 100, 'total_tokens': 522}\n",
      "{'messages': [HumanMessage(content='who is elon musk?', additional_kwargs={}, response_metadata={}, id='998ede71-3df4-4175-9370-a268996a8d07'), AIMessage(content='<function=tavily_search_results_json{\"query\": \"elon musk\"}}{\"name\": \"elon musk\", \"description\": \"Elon Musk is a South African-born entrepreneur, inventor, and business magnate. He is the CEO of SpaceX and Tesla, Inc., and has become one of the most influential and successful entrepreneurs in the world.\", \"parameters\": {\"properties\": {\"name\": {\"description\": \"Full name\", \"type\": \"string\"}},\"required\": \"[]\"}}', additional_kwargs={}, response_metadata={'token_usage': {'completion_tokens': 100, 'prompt_tokens': 422, 'total_tokens': 522, 'completion_time': 0.029279353, 'prompt_time': 0.132024263, 'queue_time': 0.0004989649999999901, 'total_time': 0.161303616}, 'model_name': 'llama-3.2-1b-preview', 'system_fingerprint': 'fp_1839a2d3cf', 'finish_reason': 'stop', 'logprobs': None}, id='run-2a9a4b99-5195-4555-8ed2-30a4d7a8d7d7-0', usage_metadata={'input_tokens': 422, 'output_tokens': 100, 'total_tokens': 522})]}\n",
      "--------------------------------------\n",
      "Human_message: who is elon musk?\n",
      "-------------------------------------\n"
     ]
    }
   ],
   "source": [
    "_printed = set()\n",
    "for question in tutorial_questions:\n",
    "    events = graph.stream(\n",
    "        {\"messages\": (\"user\", question)}, stream_mode=\"values\"\n",
    "    )\n",
    "    for event in events:\n",
    "        print(event)\n",
    "        print(\"--------------------------------------\")\n",
    "        human_message = event['messages'][0].content\n",
    "        print(\"Human_message:\", human_message)\n",
    "        print(\"-------------------------------------\")\n",
    "\n",
    "\n",
    "        "
   ]
  },
  {
   "cell_type": "code",
   "execution_count": 23,
   "metadata": {},
   "outputs": [
    {
     "data": {
      "image/jpeg": "[encoded data removed]",
      "text/plain": [
       "<IPython.core.display.Image object>"
      ]
     },
     "metadata": {},
     "output_type": "display_data"
    }
   ],
   "source": [
    "from IPython.display import Image, display\n",
    "\n",
    "try:\n",
    "    display(Image(graph.get_graph(xray=True).draw_mermaid_png()))\n",
    "except Exception:\n",
    "    # This requires some extra dependencies and is optional\n",
    "    pass"
   ]
  },
  {
   "cell_type": "code",
   "execution_count": null,
   "metadata": {},
   "outputs": [],
   "source": []
  }
 ],
 "metadata": {
  "kernelspec": {
   "display_name": "agents",
   "language": "python",
   "name": "python3"
  },
  "language_info": {
   "codemirror_mode": {
    "name": "ipython",
    "version": 3
   },
   "file_extension": ".py",
   "mimetype": "text/x-python",
   "name": "python",
   "nbconvert_exporter": "python",
   "pygments_lexer": "ipython3",
   "version": "3.12.2"
  }
 },
 "nbformat": 4,
 "nbformat_minor": 2
}
