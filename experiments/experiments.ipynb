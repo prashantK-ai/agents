{
 "cells": [
  {
   "cell_type": "markdown",
   "metadata": {},
   "source": [
    "## Research agents"
   ]
  },
  {
   "cell_type": "code",
   "execution_count": 3,
   "metadata": {},
   "outputs": [],
   "source": [
    "##\n",
    "import os \n",
    "from langchain_groq import ChatGroq\n",
    "from dotenv import load_dotenv\n",
    "\n",
    "load_dotenv()\n",
    "\n",
    "GROQ_API_KEY = os.getenv(\"GROQ_API_KEY\")\n",
    "\n",
    "\n",
    "\n",
    "llm = ChatGroq(model = \"llama-3.2-1b-preview\",\n",
    "            groq_api_key = GROQ_API_KEY)"
   ]
  },
  {
   "cell_type": "code",
   "execution_count": 4,
   "metadata": {},
   "outputs": [],
   "source": [
    "# Tavily tool initialization\n",
    "from langchain_community.tools.tavily_search import TavilySearchResults\n",
    "from langchain_core.tools import tool\n",
    "\n",
    "tavily_tool = TavilySearchResults(max_results=5)\n"
   ]
  },
  {
   "cell_type": "code",
   "execution_count": 7,
   "metadata": {},
   "outputs": [],
   "source": [
    "#tool\n",
    "\n",
    "# Python function to tool creation\n",
    "@tool\n",
    "def research(prompt):\n",
    "    \"Should do a web search for reserching about the given topic.\"\n",
    "    response = tavily_tool.invoke(prompt)\n",
    "    return response\n",
    "\n",
    "tools = [research]"
   ]
  },
  {
   "cell_type": "code",
   "execution_count": 12,
   "metadata": {},
   "outputs": [],
   "source": [
    "from langchain_core.messages import (\n",
    "    BaseMessage,\n",
    "    HumanMessage,\n",
    "    ToolMessage,\n",
    ")\n",
    "from langchain_core.prompts import ChatPromptTemplate, MessagesPlaceholder\n",
    "\n",
    "from langgraph.graph import END, StateGraph, START\n",
    "\n",
    "\n",
    "def create_agent(llm, tools, system_message: str):\n",
    "    \"\"\"Create an agent.\"\"\"\n",
    "    prompt = ChatPromptTemplate.from_messages(\n",
    "        [\n",
    "            (\n",
    "                \"system\",\n",
    "                \"You are a helpful AI assistant, collaborating with other assistants.\"\n",
    "                \" Use the provided tools to progress towards answering the question.\"\n",
    "                \" If you are unable to fully answer, that's OK, another assistant with different tools \"\n",
    "                \" will help where you left off. Execute what you can to make progress.\"\n",
    "                \" If you or any of the other assistants have the final answer or deliverable,\"\n",
    "                \" prefix your response with FINAL ANSWER so the team knows to stop.\"\n",
    "                \" You have access to the following tools: {tool_names}.\\n{system_message}\",\n",
    "            ),\n",
    "            MessagesPlaceholder(variable_name=\"messages\"),\n",
    "        ]\n",
    "    )\n",
    "    prompt = prompt.partial(system_message=system_message)\n",
    "    prompt = prompt.partial(tool_names=\", \".join([tool.name for tool in tools]))\n",
    "    return prompt | llm.bind_tools(tools)"
   ]
  },
  {
   "cell_type": "markdown",
   "metadata": {},
   "source": [
    "* Tools "
   ]
  },
  {
   "cell_type": "code",
   "execution_count": 19,
   "metadata": {},
   "outputs": [
    {
     "data": {
      "text/plain": [
       "'we can use Dynamic Prompt Generation for Natural Language to OData Query.\\nlike this:\\ndef natural_to_odata(entity, filters, select_fields=None, order_by=None, top=None):\\n    base_query = f\"/{entity}?\"\\n    \\n    # Add select fields\\n    if select_fields:\\n        base_query += f\"$select={\\',\\'.join(select_fields)}&\"\\n    \\n    # Add filters\\n    if filters:\\n        filter_conditions = \\' and \\'.join([f\"{field} {condition}\" for field, condition in filters.items()])\\n        base_query += f\"$filter={filter_conditions}&\"\\n    \\n    # Add ordering\\n    if order_by:\\n        base_query += f\"$orderby={order_by}&\"\\n    \\n    # Add top limit\\n    if top:\\n        base_query += f\"$top={top}&\"\\n    \\n    return base_query.rstrip(\\'&\\')\\n\\n# Example usage\\nentity = \"Products\"\\nfilters = {\"Category\": \"eq \\'Electronics\\'\", \"Price\": \"gt 1000\"}\\nselect_fields = [\"Name\", \"Price\"]\\norder_by = \"Price desc\"\\ntop = 5\\n\\nodata_query = natural_to_odata(entity, filters, select_fields, order_by, top)\\nprint(odata_query)\\n\\n'"
      ]
     },
     "execution_count": 19,
     "metadata": {},
     "output_type": "execute_result"
    }
   ],
   "source": [
    "\n",
    "#tool 1: research\n",
    "tavily_tool = TavilySearchResults(max_results=5)\n",
    "\n",
    "#tool 2: NLP to ODATA\n",
    "\"\"\"we can use Dynamic Prompt Generation for Natural Language to OData Query.\n",
    "like this:\n",
    "def natural_to_odata(entity, filters, select_fields=None, order_by=None, top=None):\n",
    "    base_query = f\"/{entity}?\"\n",
    "    \n",
    "    # Add select fields\n",
    "    if select_fields:\n",
    "        base_query += f\"$select={','.join(select_fields)}&\"\n",
    "    \n",
    "    # Add filters\n",
    "    if filters:\n",
    "        filter_conditions = ' and '.join([f\"{field} {condition}\" for field, condition in filters.items()])\n",
    "        base_query += f\"$filter={filter_conditions}&\"\n",
    "    \n",
    "    # Add ordering\n",
    "    if order_by:\n",
    "        base_query += f\"$orderby={order_by}&\"\n",
    "    \n",
    "    # Add top limit\n",
    "    if top:\n",
    "        base_query += f\"$top={top}&\"\n",
    "    \n",
    "    return base_query.rstrip('&')\n",
    "\n",
    "# Example usage\n",
    "entity = \"Products\"\n",
    "filters = {\"Category\": \"eq 'Electronics'\", \"Price\": \"gt 1000\"}\n",
    "select_fields = [\"Name\", \"Price\"]\n",
    "order_by = \"Price desc\"\n",
    "top = 5\n",
    "\n",
    "odata_query = natural_to_odata(entity, filters, select_fields, order_by, top)\n",
    "print(odata_query)\n",
    "\n",
    "\"\"\"\n",
    "\n",
    "\n",
    "\n"
   ]
  },
  {
   "cell_type": "code",
   "execution_count": 13,
   "metadata": {},
   "outputs": [],
   "source": [
    "from typing import Annotated\n",
    "\n",
    "from langchain_community.tools.tavily_search import TavilySearchResults\n",
    "from langchain_core.tools import tool\n",
    "from langchain_experimental.utilities import PythonREPL\n",
    "\n",
    "\n",
    "# Warning: This executes code locally, which can be unsafe when not sandboxed\n",
    "\n",
    "repl = PythonREPL()\n",
    "\n",
    "\n",
    "@tool\n",
    "def python_repl(\n",
    "    code: Annotated[str, \"The python code to execute to generate your chart.\"],\n",
    "):\n",
    "    \"\"\"Use this to execute python code. If you want to see the output of a value,\n",
    "    you should print it out with `print(...)`. This is visible to the user.\"\"\"\n",
    "    try:\n",
    "        result = repl.run(code)\n",
    "    except BaseException as e:\n",
    "        return f\"Failed to execute. Error: {repr(e)}\"\n",
    "    result_str = f\"Successfully executed:\\n```python\\n{code}\\n```\\nStdout: {result}\"\n",
    "    return (\n",
    "        result_str + \"\\n\\nIf you have completed all tasks, respond with FINAL ANSWER.\"\n",
    "    )"
   ]
  },
  {
   "cell_type": "markdown",
   "metadata": {},
   "source": [
    "## Defining State and Agent Node"
   ]
  },
  {
   "cell_type": "code",
   "execution_count": 15,
   "metadata": {},
   "outputs": [],
   "source": [
    "import operator\n",
    "from typing import Annotated, Sequence\n",
    "from typing_extensions import TypedDict\n",
    "\n",
    "\n",
    "# This defines the object that is passed between each node\n",
    "# in the graph. We will create different nodes for each agent and tool\n",
    "class AgentState(TypedDict):\n",
    "    messages: Annotated[Sequence[BaseMessage], operator.add]\n",
    "    sender: str"
   ]
  },
  {
   "cell_type": "code",
   "execution_count": 16,
   "metadata": {},
   "outputs": [],
   "source": [
    "import functools\n",
    "\n",
    "from langchain_core.messages import AIMessage\n",
    "\n",
    "\n",
    "# Helper function to create a node for a given agent\n",
    "def agent_node(state, agent, name):\n",
    "    result = agent.invoke(state)\n",
    "    # We convert the agent output into a format that is suitable to append to the global state\n",
    "    if isinstance(result, ToolMessage):\n",
    "        pass\n",
    "    else:\n",
    "        result = AIMessage(**result.dict(exclude={\"type\", \"name\"}), name=name)\n",
    "    return {\n",
    "        \"messages\": [result],\n",
    "        # Since we have a strict workflow, we can\n",
    "        # track the sender so we know who to pass to next.\n",
    "        \"sender\": name,\n",
    "    }"
   ]
  },
  {
   "cell_type": "markdown",
   "metadata": {},
   "source": [
    "### Tools and nodes"
   ]
  },
  {
   "cell_type": "code",
   "execution_count": 18,
   "metadata": {},
   "outputs": [],
   "source": [
    "# Research agent and node\n",
    "research_agent = create_agent(\n",
    "    llm,\n",
    "    [tavily_tool],\n",
    "    system_message=\"You should do research on the given topic and return a summary of that research\",\n",
    ")\n",
    "research_node = functools.partial(agent_node, agent=research_agent, name=\"Researcher\")"
   ]
  },
  {
   "cell_type": "code",
   "execution_count": 25,
   "metadata": {},
   "outputs": [],
   "source": [
    "# text2Odata\n",
    "\n",
    "text2Odata_agent = create_agent(\n",
    "    llm,\n",
    "    [python_repl],\n",
    "    system_message = \"Convert the given sentence into an OData query\",\n",
    ")\n",
    "\n",
    "text2Odata_node = functools.partial(agent_node, agent = text2Odata_agent, name = \"Text2OData\")"
   ]
  },
  {
   "cell_type": "code",
   "execution_count": 22,
   "metadata": {},
   "outputs": [],
   "source": [
    "from langgraph.prebuilt import ToolNode\n",
    "\n",
    "tools = [tavily_tool, python_repl]\n",
    "tool_node = ToolNode(tools)"
   ]
  },
  {
   "cell_type": "code",
   "execution_count": 23,
   "metadata": {},
   "outputs": [],
   "source": [
    "# Either agent can decide to end\n",
    "from typing import Literal\n",
    "\n",
    "\n",
    "def router(state) -> Literal[\"call_tool\", \"__end__\", \"continue\"]:\n",
    "    # This is the router\n",
    "    messages = state[\"messages\"]\n",
    "    last_message = messages[-1]\n",
    "    if last_message.tool_calls:\n",
    "        # The previous agent is invoking a tool\n",
    "        return \"call_tool\"\n",
    "    if \"FINAL ANSWER\" in last_message.content:\n",
    "        # Any agent decided the work is done\n",
    "        return \"__end__\"\n",
    "    return \"continue\""
   ]
  },
  {
   "cell_type": "code",
   "execution_count": 27,
   "metadata": {},
   "outputs": [],
   "source": [
    "workflow = StateGraph(AgentState)\n",
    "\n",
    "workflow.add_node(\"Researcher\", research_node)\n",
    "workflow.add_node(\"text_2_Odata\", text2Odata_node)\n",
    "workflow.add_node(\"call_tool\", tool_node)\n",
    "\n",
    "workflow.add_conditional_edges(\n",
    "    \"Researcher\",\n",
    "    router,\n",
    "    {\"continue\": \"text_2_Odata\", \"call_tool\": \"call_tool\", \"__end__\": END},\n",
    ")\n",
    "workflow.add_conditional_edges(\n",
    "    \"text_2_Odata\",\n",
    "    router,\n",
    "    {\"continue\": \"Researcher\", \"call_tool\": \"call_tool\", \"__end__\": END},\n",
    ")\n",
    "\n",
    "workflow.add_conditional_edges(\n",
    "    \"call_tool\",\n",
    "    # Each agent node updates the 'sender' field\n",
    "    # the tool calling node does not, meaning\n",
    "    # this edge will route back to the original agent\n",
    "    # who invoked the tool\n",
    "    lambda x: x[\"sender\"],\n",
    "    {\n",
    "        \"Researcher\": \"Researcher\",\n",
    "        \"text_2_Odata\": \"text_2_Odata\",\n",
    "    },\n",
    ")\n",
    "workflow.add_edge(START, \"Researcher\")\n",
    "graph = workflow.compile()"
   ]
  },
  {
   "cell_type": "code",
   "execution_count": 28,
   "metadata": {},
   "outputs": [
    {
     "data": {
      "image/jpeg": "[encoded data removed]",
      "text/plain": [
       "<IPython.core.display.Image object>"
      ]
     },
     "metadata": {},
     "output_type": "display_data"
    }
   ],
   "source": [
    "from IPython.display import Image, display\n",
    "\n",
    "try:\n",
    "    display(Image(graph.get_graph(xray=True).draw_mermaid_png()))\n",
    "except Exception:\n",
    "    # This requires some extra dependencies and is optional\n",
    "    pass"
   ]
  },
  {
   "cell_type": "code",
   "execution_count": 31,
   "metadata": {},
   "outputs": [
    {
     "name": "stdout",
     "output_type": "stream",
     "text": [
      "{'Researcher': {'messages': [AIMessage(content='<function=tavily_search_results_json {\"query\":{\"properties\":{\"query\":\"top 4 salaries\",\"parameters\":{\"properties\":{\"table\":\"Employee\"}},\"optionalParameters\":{\"includingRelatedData\":false,\"select\":\"*\"}},\"type\":\"object\"}}', additional_kwargs={}, response_metadata={'token_usage': {'completion_tokens': 48, 'prompt_tokens': 408, 'total_tokens': 456, 'completion_time': 0.014905254, 'prompt_time': 0.130206671, 'queue_time': -0.010676009, 'total_time': 0.145111925}, 'model_name': 'llama-3.2-1b-preview', 'system_fingerprint': 'fp_e9a4952513', 'finish_reason': 'stop', 'logprobs': None}, name='Researcher', id='run-0cb1c141-700d-44a7-8b2b-9aa19f72f28a-0', usage_metadata={'input_tokens': 408, 'output_tokens': 48, 'total_tokens': 456})], 'sender': 'Researcher'}}\n",
      "----\n",
      "{'text_2_Odata': {'messages': [AIMessage(content='', additional_kwargs={}, response_metadata={'token_usage': {'completion_tokens': 1, 'prompt_tokens': 454, 'total_tokens': 455, 'completion_time': 0.000298958, 'prompt_time': 0.14430624, 'queue_time': -9223372036.999083, 'total_time': 0.144605198}, 'model_name': 'llama-3.2-1b-preview', 'system_fingerprint': 'fp_e9a4952513', 'finish_reason': 'stop', 'logprobs': None}, name='Text2OData', id='run-27a92d8b-d817-4259-b944-480f7e6e5fa9-0', usage_metadata={'input_tokens': 454, 'output_tokens': 1, 'total_tokens': 455})], 'sender': 'Text2OData'}}\n",
      "----\n",
      "{'Researcher': {'messages': [AIMessage(content='<function=tavily_search_results_json {\"query\":{\"properties\":{\"query\":\"top 4 salaries\",\"parameters\":{\"properties\":{\"table\":\"Employee\"},\"optionalParameters\":{\"includingRelatedData\":false,\"select\":\"*\"}},\"type\":\"object\"}}}', additional_kwargs={}, response_metadata={'token_usage': {'completion_tokens': 48, 'prompt_tokens': 460, 'total_tokens': 508, 'completion_time': 0.014288599, 'prompt_time': 0.145492871, 'queue_time': -0.01321096699999999, 'total_time': 0.15978147}, 'model_name': 'llama-3.2-1b-preview', 'system_fingerprint': 'fp_e9a4952513', 'finish_reason': 'stop', 'logprobs': None}, name='Researcher', id='run-6a57b895-653a-4d4a-99fe-dc7b6da7bd03-0', usage_metadata={'input_tokens': 460, 'output_tokens': 48, 'total_tokens': 508})], 'sender': 'Researcher'}}\n",
      "----\n",
      "{'text_2_Odata': {'messages': [AIMessage(content='', additional_kwargs={}, response_metadata={'token_usage': {'completion_tokens': 1, 'prompt_tokens': 511, 'total_tokens': 512, 'completion_time': 0.000290718, 'prompt_time': 0.161703106, 'queue_time': -9223372037.01648, 'total_time': 0.161993824}, 'model_name': 'llama-3.2-1b-preview', 'system_fingerprint': 'fp_e9a4952513', 'finish_reason': 'stop', 'logprobs': None}, name='Text2OData', id='run-11e16ca9-d953-4c49-99f4-10a52ac38a7e-0', usage_metadata={'input_tokens': 511, 'output_tokens': 1, 'total_tokens': 512})], 'sender': 'Text2OData'}}\n",
      "----\n",
      "{'Researcher': {'messages': [AIMessage(content='<function=tavily_search_results_json {\"query\":{\"properties\":{\"query\":\"top 4 salaries\",\"parameters\":{\"properties\":{\"table\":\"Employee\"},\"optionalParameters\":{\"includingRelatedData\":false,\"select\":\"*\"}},\"type\":\"object\"},\"includedIn\":[]}}', additional_kwargs={}, response_metadata={'token_usage': {'completion_tokens': 52, 'prompt_tokens': 517, 'total_tokens': 569, 'completion_time': 0.015330676, 'prompt_time': 0.209969017, 'queue_time': -0.012646137000000002, 'total_time': 0.225299693}, 'model_name': 'llama-3.2-1b-preview', 'system_fingerprint': 'fp_1776878028', 'finish_reason': 'stop', 'logprobs': None}, name='Researcher', id='run-895be22e-a82c-4312-bb38-6e2e67e58064-0', usage_metadata={'input_tokens': 517, 'output_tokens': 52, 'total_tokens': 569})], 'sender': 'Researcher'}}\n",
      "----\n",
      "{'text_2_Odata': {'messages': [AIMessage(content='', additional_kwargs={}, response_metadata={'token_usage': {'completion_tokens': 1, 'prompt_tokens': 572, 'total_tokens': 573, 'completion_time': 0.000291428, 'prompt_time': 0.179143062, 'queue_time': -9223372037.03392, 'total_time': 0.17943449}, 'model_name': 'llama-3.2-1b-preview', 'system_fingerprint': 'fp_e9a4952513', 'finish_reason': 'stop', 'logprobs': None}, name='Text2OData', id='run-00f82acd-5044-4b9c-9a1e-c14f65e17acb-0', usage_metadata={'input_tokens': 572, 'output_tokens': 1, 'total_tokens': 573})], 'sender': 'Text2OData'}}\n",
      "----\n",
      "{'Researcher': {'messages': [AIMessage(content='<function=tavily_search_results_json {\"query\":{\"properties\":{\"query\":\"top 4 salaries\",\"parameters\":{\"properties\":{\"table\":\"Employee\"},\"optionalParameters\":{\"includingRelatedData\":false,\"select\":\"*\"}},\"type\":\"object\"},\"includedIn\":{\"$ref\":\"includedInTableReference\"}}}', additional_kwargs={}, response_metadata={'token_usage': {'completion_tokens': 59, 'prompt_tokens': 578, 'total_tokens': 637, 'completion_time': 0.017465933, 'prompt_time': 0.178191923, 'queue_time': -0.012497656999999995, 'total_time': 0.195657856}, 'model_name': 'llama-3.2-1b-preview', 'system_fingerprint': 'fp_1776878028', 'finish_reason': 'stop', 'logprobs': None}, name='Researcher', id='run-af5e348d-83c9-4e77-af18-f36b890be8e6-0', usage_metadata={'input_tokens': 578, 'output_tokens': 59, 'total_tokens': 637})], 'sender': 'Researcher'}}\n",
      "----\n",
      "{'text_2_Odata': {'messages': [AIMessage(content='', additional_kwargs={}, response_metadata={'token_usage': {'completion_tokens': 1, 'prompt_tokens': 640, 'total_tokens': 641, 'completion_time': 0.000288438, 'prompt_time': 0.196922227, 'queue_time': -9223372037.051699, 'total_time': 0.197210665}, 'model_name': 'llama-3.2-1b-preview', 'system_fingerprint': 'fp_1776878028', 'finish_reason': 'stop', 'logprobs': None}, name='Text2OData', id='run-af53f798-60be-45b0-b234-ff07bb50b7c0-0', usage_metadata={'input_tokens': 640, 'output_tokens': 1, 'total_tokens': 641})], 'sender': 'Text2OData'}}\n",
      "----\n",
      "{'Researcher': {'messages': [AIMessage(content=\"<FINAL ANSWER>\\n\\nThe top 4 salaries from the 'Employee' table are:\\n\\n*  Salary: 80000\\n*  Salary: 70000\\n*  Salary: 60000\\n*  Salary: 55000\\n\\nThese salaries are based on the current data available in the 'Employee' table. Please note that the salaries may change over time and may not reflect the current salaries.\", additional_kwargs={}, response_metadata={'token_usage': {'completion_tokens': 84, 'prompt_tokens': 646, 'total_tokens': 730, 'completion_time': 0.025407889, 'prompt_time': 0.200638119, 'queue_time': 0.001403449000000001, 'total_time': 0.226046008}, 'model_name': 'llama-3.2-1b-preview', 'system_fingerprint': 'fp_e9a4952513', 'finish_reason': 'stop', 'logprobs': None}, name='Researcher', id='run-68bb2229-ce9b-4f41-9d9c-30ce9bb6b3e0-0', usage_metadata={'input_tokens': 646, 'output_tokens': 84, 'total_tokens': 730})], 'sender': 'Researcher'}}\n",
      "----\n"
     ]
    }
   ],
   "source": [
    "\n",
    "events = graph.stream(\n",
    "    {\n",
    "        \"messages\": [\n",
    "            HumanMessage(\n",
    "                content = \"give me OData query for fateching top 4 salaries from employee table\" \n",
    "            )\n",
    "        ],\n",
    "    },\n",
    "    # Maximum number of steps to take in the graph\n",
    "    #{\"recursion_limit\": 150},\n",
    ")\n",
    "for s in events:\n",
    "    print(s)\n",
    "    print(\"----\")"
   ]
  },
  {
   "cell_type": "code",
   "execution_count": null,
   "metadata": {},
   "outputs": [],
   "source": []
  },
  {
   "cell_type": "markdown",
   "metadata": {},
   "source": [
    "### hierarchical"
   ]
  },
  {
   "cell_type": "markdown",
   "metadata": {},
   "source": []
  },
  {
   "cell_type": "code",
   "execution_count": 38,
   "metadata": {},
   "outputs": [
    {
     "ename": "ValueError",
     "evalue": "Prompt missing required variables: {'tools'}",
     "output_type": "error",
     "traceback": [
      "\u001b[1;31m---------------------------------------------------------------------------\u001b[0m",
      "\u001b[1;31mValueError\u001b[0m                                Traceback (most recent call last)",
      "Cell \u001b[1;32mIn[38], line 78\u001b[0m\n\u001b[0;32m     76\u001b[0m \u001b[38;5;28;01mif\u001b[39;00m \u001b[38;5;18m__name__\u001b[39m \u001b[38;5;241m==\u001b[39m \u001b[38;5;124m\"\u001b[39m\u001b[38;5;124m__main__\u001b[39m\u001b[38;5;124m\"\u001b[39m:\n\u001b[0;32m     77\u001b[0m     research_question \u001b[38;5;241m=\u001b[39m \u001b[38;5;124m\"\u001b[39m\u001b[38;5;124mWhat are the latest advancements in quantum computing?\u001b[39m\u001b[38;5;124m\"\u001b[39m\n\u001b[1;32m---> 78\u001b[0m     result \u001b[38;5;241m=\u001b[39m \u001b[43mmain\u001b[49m\u001b[43m(\u001b[49m\u001b[43mresearch_question\u001b[49m\u001b[43m)\u001b[49m\n\u001b[0;32m     79\u001b[0m     \u001b[38;5;28mprint\u001b[39m(result)\n",
      "Cell \u001b[1;32mIn[38], line 68\u001b[0m, in \u001b[0;36mmain\u001b[1;34m(question)\u001b[0m\n\u001b[0;32m     65\u001b[0m \u001b[38;5;28;01mdef\u001b[39;00m \u001b[38;5;21mmain\u001b[39m(question: \u001b[38;5;28mstr\u001b[39m):\n\u001b[0;32m     66\u001b[0m     llm \u001b[38;5;241m=\u001b[39m ChatGroq(model \u001b[38;5;241m=\u001b[39m \u001b[38;5;124m\"\u001b[39m\u001b[38;5;124mllama-3.2-1b-preview\u001b[39m\u001b[38;5;124m\"\u001b[39m,\n\u001b[0;32m     67\u001b[0m             groq_api_key \u001b[38;5;241m=\u001b[39m GROQ_API_KEY)\n\u001b[1;32m---> 68\u001b[0m     agent \u001b[38;5;241m=\u001b[39m \u001b[43mcreate_agent\u001b[49m\u001b[43m(\u001b[49m\u001b[43mllm\u001b[49m\u001b[43m)\u001b[49m\n\u001b[0;32m     69\u001b[0m     workflow \u001b[38;5;241m=\u001b[39m build_graph()\n\u001b[0;32m     70\u001b[0m     app \u001b[38;5;241m=\u001b[39m workflow\u001b[38;5;241m.\u001b[39mcompile()\n",
      "Cell \u001b[1;32mIn[38], line 43\u001b[0m, in \u001b[0;36mcreate_agent\u001b[1;34m(llm)\u001b[0m\n\u001b[0;32m     31\u001b[0m     tools \u001b[38;5;241m=\u001b[39m [TrivialResearchTool()]\n\u001b[0;32m     32\u001b[0m     prompt \u001b[38;5;241m=\u001b[39m PromptTemplate\u001b[38;5;241m.\u001b[39mfrom_template(\n\u001b[0;32m     33\u001b[0m \u001b[38;5;250m    \u001b[39m\u001b[38;5;124;03m\"\"\"You are a research assistant. Use the following tool to gather information on the given topic:\u001b[39;00m\n\u001b[0;32m     34\u001b[0m \n\u001b[1;32m   (...)\u001b[0m\n\u001b[0;32m     40\u001b[0m \u001b[38;5;124;03m    {agent_scratchpad}\"\"\"\u001b[39;00m\n\u001b[0;32m     41\u001b[0m )\n\u001b[1;32m---> 43\u001b[0m     agent \u001b[38;5;241m=\u001b[39m \u001b[43mcreate_react_agent\u001b[49m\u001b[43m(\u001b[49m\u001b[43mllm\u001b[49m\u001b[43m,\u001b[49m\u001b[43m \u001b[49m\u001b[43mtools\u001b[49m\u001b[43m,\u001b[49m\u001b[43m \u001b[49m\u001b[43mprompt\u001b[49m\u001b[43m)\u001b[49m\n\u001b[0;32m     44\u001b[0m     \u001b[38;5;28;01mreturn\u001b[39;00m AgentExecutor(agent\u001b[38;5;241m=\u001b[39magent, tools\u001b[38;5;241m=\u001b[39mtools, verbose\u001b[38;5;241m=\u001b[39m\u001b[38;5;28;01mTrue\u001b[39;00m)\n",
      "File \u001b[1;32mc:\\Users\\pkhobragade\\Desktop\\office_proj\\agents\\agents\\Lib\\site-packages\\langchain\\agents\\react\\agent.py:117\u001b[0m, in \u001b[0;36mcreate_react_agent\u001b[1;34m(llm, tools, prompt, output_parser, tools_renderer, stop_sequence)\u001b[0m\n\u001b[0;32m    113\u001b[0m missing_vars \u001b[38;5;241m=\u001b[39m {\u001b[38;5;124m\"\u001b[39m\u001b[38;5;124mtools\u001b[39m\u001b[38;5;124m\"\u001b[39m, \u001b[38;5;124m\"\u001b[39m\u001b[38;5;124mtool_names\u001b[39m\u001b[38;5;124m\"\u001b[39m, \u001b[38;5;124m\"\u001b[39m\u001b[38;5;124magent_scratchpad\u001b[39m\u001b[38;5;124m\"\u001b[39m}\u001b[38;5;241m.\u001b[39mdifference(\n\u001b[0;32m    114\u001b[0m     prompt\u001b[38;5;241m.\u001b[39minput_variables \u001b[38;5;241m+\u001b[39m \u001b[38;5;28mlist\u001b[39m(prompt\u001b[38;5;241m.\u001b[39mpartial_variables)\n\u001b[0;32m    115\u001b[0m )\n\u001b[0;32m    116\u001b[0m \u001b[38;5;28;01mif\u001b[39;00m missing_vars:\n\u001b[1;32m--> 117\u001b[0m     \u001b[38;5;28;01mraise\u001b[39;00m \u001b[38;5;167;01mValueError\u001b[39;00m(\u001b[38;5;124mf\u001b[39m\u001b[38;5;124m\"\u001b[39m\u001b[38;5;124mPrompt missing required variables: \u001b[39m\u001b[38;5;132;01m{\u001b[39;00mmissing_vars\u001b[38;5;132;01m}\u001b[39;00m\u001b[38;5;124m\"\u001b[39m)\n\u001b[0;32m    119\u001b[0m prompt \u001b[38;5;241m=\u001b[39m prompt\u001b[38;5;241m.\u001b[39mpartial(\n\u001b[0;32m    120\u001b[0m     tools\u001b[38;5;241m=\u001b[39mtools_renderer(\u001b[38;5;28mlist\u001b[39m(tools)),\n\u001b[0;32m    121\u001b[0m     tool_names\u001b[38;5;241m=\u001b[39m\u001b[38;5;124m\"\u001b[39m\u001b[38;5;124m, \u001b[39m\u001b[38;5;124m\"\u001b[39m\u001b[38;5;241m.\u001b[39mjoin([t\u001b[38;5;241m.\u001b[39mname \u001b[38;5;28;01mfor\u001b[39;00m t \u001b[38;5;129;01min\u001b[39;00m tools]),\n\u001b[0;32m    122\u001b[0m )\n\u001b[0;32m    123\u001b[0m \u001b[38;5;28;01mif\u001b[39;00m stop_sequence:\n",
      "\u001b[1;31mValueError\u001b[0m: Prompt missing required variables: {'tools'}"
     ]
    }
   ],
   "source": [
    "from langgraph.graph import Graph\n",
    "from langgraph.prebuilt import ToolExecutor\n",
    "from langchain.tools import BaseTool\n",
    "from langchain.agents import AgentExecutor, create_react_agent\n",
    "from langchain_groq import ChatGroq\n",
    "from langchain.prompts import PromptTemplate\n",
    "\n",
    "\n",
    "#from langchain_openai import ChatOpenAI\n",
    "from typing import List, Dict\n",
    "\n",
    "# Assume Trivial API is available\n",
    "from langchain_community.tools.tavily_search import TavilySearchResults\n",
    "\n",
    "# Define Trivial Tool\n",
    "class TrivialResearchTool(BaseTool):\n",
    "    name: str = \"Trivial Research\"\n",
    "    description : str = \"Useful for researching a given topic using Trivial API\"\n",
    "\n",
    "    def _run(self, query: str) -> str:\n",
    "        trivial_api = TavilySearchResults(max_results=5)\n",
    "        results = trivial_api.search(query)\n",
    "        return \"\\n\".join([f\"- {result.title}: {result.summary}\" for result in results[:5]])\n",
    "\n",
    "    async def _arun(self, query: str) -> str:\n",
    "        raise NotImplementedError(\"TrivialResearchTool does not support async\")\n",
    "\n",
    "# Define the agent\n",
    "# Define the agent\n",
    "def create_agent(llm):\n",
    "    tools = [TrivialResearchTool()]\n",
    "    prompt = PromptTemplate.from_template(\n",
    "    \"\"\"You are a research assistant. Use the following tool to gather information on the given topic:\n",
    "\n",
    "    {tool_names}\n",
    "\n",
    "    Use the above tools to answer the human's question. Your task is to provide a comprehensive summary of the findings.\n",
    "\n",
    "    Human: {input}\n",
    "    {agent_scratchpad}\"\"\"\n",
    ")\n",
    "\n",
    "    agent = create_react_agent(llm, tools, prompt)\n",
    "    return AgentExecutor(agent=agent, tools=tools, verbose=True)\n",
    "\n",
    "# Define the research function\n",
    "def research(state):\n",
    "    agent = state[\"agent\"]\n",
    "    question = state[\"question\"]\n",
    "    result = agent.invoke({\"input\": question})\n",
    "    return {\"result\": result[\"output\"]}\n",
    "\n",
    "# Define the graph\n",
    "def build_graph():\n",
    "    graph = Graph()\n",
    "\n",
    "    graph.add_node(\"research\", research)\n",
    "\n",
    "    graph.set_entry_point(\"research\")\n",
    "    graph.add_output(\"research\")\n",
    "\n",
    "    return graph\n",
    "\n",
    "# Main function to run the agent\n",
    "def main(question: str):\n",
    "    llm = ChatGroq(model = \"llama-3.2-1b-preview\",\n",
    "            groq_api_key = GROQ_API_KEY)\n",
    "    agent = create_agent(llm)\n",
    "    workflow = build_graph()\n",
    "    app = workflow.compile()\n",
    "    \n",
    "    result = app.invoke({\"agent\": agent, \"question\": question})\n",
    "    return result[\"result\"]\n",
    "\n",
    "# Example usage\n",
    "if __name__ == \"__main__\":\n",
    "    research_question = \"What are the latest advancements in quantum computing?\"\n",
    "    result = main(research_question)\n",
    "    print(result)"
   ]
  },
  {
   "cell_type": "code",
   "execution_count": null,
   "metadata": {},
   "outputs": [],
   "source": []
  }
 ],
 "metadata": {
  "kernelspec": {
   "display_name": "agents",
   "language": "python",
   "name": "python3"
  },
  "language_info": {
   "codemirror_mode": {
    "name": "ipython",
    "version": 3
   },
   "file_extension": ".py",
   "mimetype": "text/x-python",
   "name": "python",
   "nbconvert_exporter": "python",
   "pygments_lexer": "ipython3",
   "version": "3.12.2"
  }
 },
 "nbformat": 4,
 "nbformat_minor": 2
}
