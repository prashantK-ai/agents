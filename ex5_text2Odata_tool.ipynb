{
 "cells": [
  {
   "cell_type": "code",
   "execution_count": 1,
   "metadata": {},
   "outputs": [],
   "source": [
    "##\n",
    "import os \n",
    "from langchain_groq import ChatGroq\n",
    "from dotenv import load_dotenv\n",
    "\n",
    "load_dotenv()\n",
    "\n",
    "GROQ_API_KEY = os.getenv(\"GROQ_API_KEY\")\n",
    "\n",
    "\n",
    "\n",
    "llm = ChatGroq(model = \"llama-3.2-1b-preview\",\n",
    "            groq_api_key = GROQ_API_KEY)"
   ]
  },
  {
   "cell_type": "code",
   "execution_count": 2,
   "metadata": {},
   "outputs": [
    {
     "data": {
      "text/plain": [
       "'\\n# Sample usage\\nnatural_language_query = \"Find customers where age greater than 30\"\\nodata_query = parse_natural_language_to_odata(natural_language_query)\\nprint(\"Natural Language Query:\", natural_language_query)\\nprint(\"OData Query:\", odata_query)\\n'"
      ]
     },
     "execution_count": 2,
     "metadata": {},
     "output_type": "execute_result"
    }
   ],
   "source": [
    "# Tools\n",
    "from langchain.tools import tool\n",
    "import spacy\n",
    "\n",
    "# Load the spaCy English model\n",
    "nlp = spacy.load(\"en_core_web_sm\")\n",
    "\n",
    "# A mapping from common natural language phrases to OData query components\n",
    "NL_TO_OLQUERY_MAP = {\n",
    "    \"find\": \"select\",\n",
    "    \"get\": \"select\",\n",
    "    \"filter\": \"filter\",\n",
    "    \"where\": \"filter\",\n",
    "    \"order by\": \"orderby\",\n",
    "    \"greater than\": \"gt\",\n",
    "    \"less than\": \"lt\",\n",
    "    \"equals\": \"eq\",\n",
    "    \"not equal\": \"ne\",\n",
    "    \"equal to\": \"eq\"\n",
    "}\n",
    "\n",
    "@tool\n",
    "def parse_natural_language_to_odata(query: str) -> str:\n",
    "    \"\"\"\n",
    "    Tool to convert a natural language query to an OData query.\n",
    "    \n",
    "    Args:\n",
    "        query (str): The natural language query.\n",
    "    \n",
    "    Returns:\n",
    "        str: The equivalent OData query string.\n",
    "    \"\"\"\n",
    "    def parse_natural_language(query):\n",
    "        \"\"\"\n",
    "        Parse the natural language query to extract key information.\n",
    "        \"\"\"\n",
    "        doc = nlp(query.lower())\n",
    "        \n",
    "        # Placeholder for extracted parts of the OData query\n",
    "        select_part = []\n",
    "        filter_part = []\n",
    "        orderby_part = None\n",
    "        \n",
    "        # Parse each token and map to OData equivalent\n",
    "        for i, token in enumerate(doc):\n",
    "            if token.text == \"find\" or token.text == \"get\":\n",
    "                # The next token is likely what we're selecting\n",
    "                if i + 1 < len(doc):\n",
    "                    select_part.append(doc[i+1].text)\n",
    "            elif token.text == \"where\":\n",
    "                # Look for the condition after \"where\"\n",
    "                if i + 3 < len(doc):\n",
    "                    field = doc[i+1].text\n",
    "                    condition = \" \".join([t.text for t in doc[i+2:i+4]])\n",
    "                    if condition in NL_TO_OLQUERY_MAP:\n",
    "                        odata_condition = NL_TO_OLQUERY_MAP[condition]\n",
    "                        if i + 4 < len(doc):\n",
    "                            value = doc[i+4].text\n",
    "                            filter_part.append(f\"{field} {odata_condition} {value}\")\n",
    "        \n",
    "        # Construct OData query\n",
    "        odata_query = construct_odata_query(select_part, filter_part, orderby_part)\n",
    "        return odata_query\n",
    "\n",
    "    def construct_odata_query(select_part, filter_part, orderby_part):\n",
    "        \"\"\"\n",
    "        Construct the OData query from parsed components.\n",
    "        \"\"\"\n",
    "        odata_query = \"$select=\" + \",\".join(select_part) if select_part else \"\"\n",
    "        \n",
    "        if filter_part:\n",
    "            odata_query += \"&$filter=\" + \" and \".join(filter_part)\n",
    "            \n",
    "        if orderby_part:\n",
    "            odata_query += \"&$orderby=\" + orderby_part\n",
    "        \n",
    "        return odata_query\n",
    "\n",
    "    # Return the OData query\n",
    "    return parse_natural_language(query)\n",
    "\n",
    "\n",
    "\"\"\"\n",
    "# Sample usage\n",
    "natural_language_query = \"Find customers where age greater than 30\"\n",
    "odata_query = parse_natural_language_to_odata(natural_language_query)\n",
    "print(\"Natural Language Query:\", natural_language_query)\n",
    "print(\"OData Query:\", odata_query)\n",
    "\"\"\""
   ]
  },
  {
   "cell_type": "code",
   "execution_count": 3,
   "metadata": {},
   "outputs": [],
   "source": [
    "from langchain_core.tools import tool\n",
    "from langchain_community.tools.tavily_search import TavilySearchResults\n",
    "from langchain_core.prompts import ChatPromptTemplate\n",
    "from langchain_core.runnables import Runnable\n",
    "\n",
    "from typing import Annotated\n",
    "from typing_extensions import TypedDict\n",
    "from langgraph.graph.message import AnyMessage, add_messages\n",
    "from langchain_core.messages import ToolMessage\n",
    "from langchain_core.runnables import RunnableLambda\n",
    "from langgraph.prebuilt import ToolNode\n",
    "from langgraph.prebuilt import tools_condition\n",
    "from langgraph.graph import END, StateGraph, START"
   ]
  },
  {
   "cell_type": "markdown",
   "metadata": {},
   "source": [
    "### utility"
   ]
  },
  {
   "cell_type": "code",
   "execution_count": 4,
   "metadata": {},
   "outputs": [],
   "source": [
    "def handle_tool_error(state) -> dict:\n",
    "    \"\"\"\n",
    "    Function to handle errors that occur during tool execution.\n",
    "    \n",
    "    Args:\n",
    "        state (dict): The current state of the AI agent, which includes messages and tool call details.\n",
    "    \n",
    "    Returns:\n",
    "        dict: A dictionary containing error messages for each tool that encountered an issue.\n",
    "    \"\"\"\n",
    "    # Retrieve the error from the current state\n",
    "    error = state.get(\"error\")\n",
    "    \n",
    "    # Access the tool calls from the last message in the state's message history\n",
    "    tool_calls = state[\"messages\"][-1].tool_calls\n",
    "    \n",
    "    # Return a list of ToolMessages with error details, linked to each tool call ID\n",
    "    return {\n",
    "        \"messages\": [\n",
    "            ToolMessage(\n",
    "                content=f\"Error: {repr(error)}\\n please fix your mistakes.\",  # Format the error message for the user\n",
    "                tool_call_id=tc[\"id\"],  # Associate the error message with the corresponding tool call ID\n",
    "            )\n",
    "            for tc in tool_calls  # Iterate over each tool call to produce individual error messages\n",
    "        ]\n",
    "    }\n",
    "\n",
    "def create_tool_node_with_fallback(tools: list) -> dict:\n",
    "    \"\"\"\n",
    "    Function to create a tool node with fallback error handling.\n",
    "    \n",
    "    Args:\n",
    "        tools (list): A list of tools to be included in the node.\n",
    "    \n",
    "    Returns:\n",
    "        dict: A tool node that uses fallback behavior in case of errors.\n",
    "    \"\"\"\n",
    "    # Create a ToolNode with the provided tools and attach a fallback mechanism\n",
    "    # If an error occurs, it will invoke the handle_tool_error function to manage the error\n",
    "    return ToolNode(tools).with_fallbacks(\n",
    "        [RunnableLambda(handle_tool_error)],  # Use a lambda function to wrap the error handler\n",
    "        exception_key=\"error\"  # Specify that this fallback is for handling errors\n",
    "    )"
   ]
  },
  {
   "cell_type": "markdown",
   "metadata": {},
   "source": [
    "### Define the State and Assistant Class"
   ]
  },
  {
   "cell_type": "code",
   "execution_count": 5,
   "metadata": {},
   "outputs": [],
   "source": [
    "class State(TypedDict):\n",
    "    messages: Annotated[list[AnyMessage], add_messages]\n",
    "\n",
    "\n",
    "class Assistant:\n",
    "    def __init__(self, runnable: Runnable):\n",
    "        # Initialize with the runnable that defines the process for interacting with the tools\n",
    "        self.runnable = runnable\n",
    "\n",
    "    def __call__(self, state: State):\n",
    "        while True:\n",
    "            # Invoke the runnable with the current state (messages and context)\n",
    "            print(\"Current state before running tool:\", state)\n",
    "            result = self.runnable.invoke(state)\n",
    "            \n",
    "\n",
    "            # Check if the tool was invoked and returned valid results\n",
    "            print(\"Result after tool execution:\", result)  # DEBUG\n",
    "            \n",
    "            # If the tool fails to return valid output, re-prompt the user to clarify or retry\n",
    "            if not result.tool_calls and (\n",
    "                not result.content\n",
    "                or isinstance(result.content, list)\n",
    "                and not result.content[0].get(\"text\")\n",
    "            ):\n",
    "                # Add a message to request a valid response\n",
    "                messages = state[\"messages\"] + [(\"user\", \"Respond with a real output.\")]\n",
    "                state = {**state, \"messages\": messages}\n",
    "            else:\n",
    "                # Break the loop when valid output is obtained\n",
    "                break\n",
    "\n",
    "        # Return the final state after processing the runnable\n",
    "        return {\"messages\": result}"
   ]
  },
  {
   "cell_type": "markdown",
   "metadata": {},
   "source": [
    "### prompt"
   ]
  },
  {
   "cell_type": "code",
   "execution_count": 15,
   "metadata": {},
   "outputs": [],
   "source": [
    "text2Odata_prompt = ChatPromptTemplate.from_messages(\n",
    "    [\n",
    "        (\n",
    "            \"system\",\n",
    "            '''You are an efficient query assistant specialized in converting natural language into OData queries. \n",
    "            Your job is to help users transform their natural language requests into proper OData queries for interacting \n",
    "            with their API's. You will take a user's natural language query, parse it, and return the correct OData query format.\n",
    "            \n",
    "            You should get the following information from them:\n",
    "            - query\n",
    "            If you are not able to discern this info, ask them to clarify! Do not attempt to guess or assume the query structure.\n",
    "\n",
    "            After gathering the correct information, call the relevant tool to convert the natural language query into an OData query.\n",
    "            ''',\n",
    "        ),\n",
    "        (\"placeholder\", \"{messages}\"),\n",
    "    ]\n",
    ")\n"
   ]
  },
  {
   "cell_type": "code",
   "execution_count": 16,
   "metadata": {},
   "outputs": [],
   "source": [
    "text2Odata_tool = [parse_natural_language_to_odata]"
   ]
  },
  {
   "cell_type": "code",
   "execution_count": 17,
   "metadata": {},
   "outputs": [],
   "source": [
    "# Bind the tools to the assistant's workflow\n",
    "text2Odata_assistant_runnable = text2Odata_prompt | llm.bind_tools(text2Odata_tool)"
   ]
  },
  {
   "cell_type": "markdown",
   "metadata": {},
   "source": [
    "### Build the Graph\n"
   ]
  },
  {
   "cell_type": "code",
   "execution_count": 18,
   "metadata": {},
   "outputs": [],
   "source": [
    "builder = StateGraph(State)\n",
    "builder.add_node(\"Text2Odata\", Assistant(text2Odata_assistant_runnable))\n",
    "builder.add_node(\"tools\", create_tool_node_with_fallback(text2Odata_tool))\n",
    "\n",
    "builder.add_edge(START, \"Text2Odata\")  # Start with the assistant\n",
    "builder.add_conditional_edges(\"Text2Odata\", tools_condition)  # Move to tools after input\n",
    "builder.add_edge(\"tools\", \"Text2Odata\")  # Return to assistant after tool execution\n",
    "\n",
    "\n",
    "graph = builder.compile()\n"
   ]
  },
  {
   "cell_type": "code",
   "execution_count": 19,
   "metadata": {},
   "outputs": [],
   "source": [
    "# Let's create an example conversation a user might have with the assistant\n",
    "tutorial_questions = [\n",
    " \"Find customers where age greater than 30\"\n",
    "]"
   ]
  },
  {
   "cell_type": "code",
   "execution_count": 20,
   "metadata": {},
   "outputs": [
    {
     "name": "stdout",
     "output_type": "stream",
     "text": [
      "{'messages': [HumanMessage(content='Find customers where age greater than 30', additional_kwargs={}, response_metadata={}, id='806ba16c-7ab6-4749-84ea-f0a25d4340bf')]}\n",
      "--------------------------------------\n",
      "Human_message: Find customers where age greater than 30\n",
      "-------------------------------------\n",
      "Current state before running tool: {'messages': [HumanMessage(content='Find customers where age greater than 30', additional_kwargs={}, response_metadata={}, id='806ba16c-7ab6-4749-84ea-f0a25d4340bf')]}\n",
      "Result after tool execution: content='{\"name\":\"parse_natural_language_to_odata\",\"description\":\"Tool to convert a natural language query to an OData query.\",\"Args:\\\\n    query (str): The natural language query.\\\\n\\\\nReturns:\\\\n    str: The equivalent OData query string.\",\"parameters\":{\"properties\":{\"query\":{\"type\":\"string\"}},\"required\":[\"query\"],\"type\":\"object\",\"parameters\":{\"properties\":{\"age\": {\"type\":\"integer\"}}}}}\\n\\n<parse_natural_language_to_odata query=\"Find customers where age greater than 30\" />' additional_kwargs={} response_metadata={'token_usage': {'completion_tokens': 107, 'prompt_tokens': 426, 'total_tokens': 533, 'completion_time': 0.031457475, 'prompt_time': 0.133458226, 'queue_time': -0.011984395000000009, 'total_time': 0.164915701}, 'model_name': 'llama-3.2-1b-preview', 'system_fingerprint': 'fp_1839a2d3cf', 'finish_reason': 'stop', 'logprobs': None} id='run-f15ca49a-bb1f-4a8c-9669-e8c07283f832-0' usage_metadata={'input_tokens': 426, 'output_tokens': 107, 'total_tokens': 533}\n",
      "{'messages': [HumanMessage(content='Find customers where age greater than 30', additional_kwargs={}, response_metadata={}, id='806ba16c-7ab6-4749-84ea-f0a25d4340bf'), AIMessage(content='{\"name\":\"parse_natural_language_to_odata\",\"description\":\"Tool to convert a natural language query to an OData query.\",\"Args:\\\\n    query (str): The natural language query.\\\\n\\\\nReturns:\\\\n    str: The equivalent OData query string.\",\"parameters\":{\"properties\":{\"query\":{\"type\":\"string\"}},\"required\":[\"query\"],\"type\":\"object\",\"parameters\":{\"properties\":{\"age\": {\"type\":\"integer\"}}}}}\\n\\n<parse_natural_language_to_odata query=\"Find customers where age greater than 30\" />', additional_kwargs={}, response_metadata={'token_usage': {'completion_tokens': 107, 'prompt_tokens': 426, 'total_tokens': 533, 'completion_time': 0.031457475, 'prompt_time': 0.133458226, 'queue_time': -0.011984395000000009, 'total_time': 0.164915701}, 'model_name': 'llama-3.2-1b-preview', 'system_fingerprint': 'fp_1839a2d3cf', 'finish_reason': 'stop', 'logprobs': None}, id='run-f15ca49a-bb1f-4a8c-9669-e8c07283f832-0', usage_metadata={'input_tokens': 426, 'output_tokens': 107, 'total_tokens': 533})]}\n",
      "--------------------------------------\n",
      "Human_message: Find customers where age greater than 30\n",
      "-------------------------------------\n"
     ]
    }
   ],
   "source": [
    "for question in tutorial_questions:\n",
    "    events = graph.stream(\n",
    "        {\"messages\": (\"user\", question)}, stream_mode=\"values\"\n",
    "    )\n",
    "    for event in events:\n",
    "        print(event)\n",
    "        print(\"--------------------------------------\")\n",
    "        human_message = event['messages'][0].content\n",
    "        print(\"Human_message:\", human_message)\n",
    "        print(\"-------------------------------------\")\n"
   ]
  },
  {
   "cell_type": "code",
   "execution_count": null,
   "metadata": {},
   "outputs": [],
   "source": []
  },
  {
   "cell_type": "code",
   "execution_count": null,
   "metadata": {},
   "outputs": [],
   "source": []
  }
 ],
 "metadata": {
  "kernelspec": {
   "display_name": "agents",
   "language": "python",
   "name": "python3"
  },
  "language_info": {
   "codemirror_mode": {
    "name": "ipython",
    "version": 3
   },
   "file_extension": ".py",
   "mimetype": "text/x-python",
   "name": "python",
   "nbconvert_exporter": "python",
   "pygments_lexer": "ipython3",
   "version": "3.12.2"
  }
 },
 "nbformat": 4,
 "nbformat_minor": 2
}
